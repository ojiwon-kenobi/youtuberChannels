{
 "cells": [
  {
   "cell_type": "code",
   "execution_count": 3,
   "metadata": {},
   "outputs": [
    {
     "name": "stdout",
     "output_type": "stream",
     "text": [
      "Collecting youtube_dl\n",
      "  Downloading youtube_dl-2021.12.17-py2.py3-none-any.whl (1.9 MB)\n",
      "\u001b[K     |████████████████████████████████| 1.9 MB 3.7 MB/s eta 0:00:01\n",
      "\u001b[?25hInstalling collected packages: youtube-dl\n",
      "Successfully installed youtube-dl-2021.12.17\n"
     ]
    }
   ],
   "source": [
    "! pip install --upgrade youtube_dl"
   ]
  },
  {
   "cell_type": "code",
   "execution_count": 5,
   "metadata": {},
   "outputs": [
    {
     "name": "stdout",
     "output_type": "stream",
     "text": [
      "[youtube] HECa3bAFAYk: Downloading webpage\n",
      "[info] Available formats for HECa3bAFAYk:\n",
      "format code  extension  resolution note\n",
      "249          webm       audio only tiny   41k , webm_dash container, opus @ 41k (48000Hz), 129.32KiB\n",
      "250          webm       audio only tiny   52k , webm_dash container, opus @ 52k (48000Hz), 165.06KiB\n",
      "251          webm       audio only tiny   96k , webm_dash container, opus @ 96k (48000Hz), 305.21KiB\n",
      "140          m4a        audio only tiny  127k , m4a_dash container, mp4a.40.2@127k (44100Hz), 401.86KiB\n",
      "160          mp4        192x144    144p   58k , mp4_dash container, avc1.4d400b@  58k, 24fps, video only, 179.92KiB\n",
      "278          webm       192x144    144p   71k , webm_dash container, vp9@  71k, 24fps, video only, 220.20KiB\n",
      "394          mp4        192x144    144p   75k , mp4_dash container, av01.0.00M.08@  75k, 24fps, video only, 234.33KiB\n",
      "395          mp4        320x240    240p  106k , mp4_dash container, av01.0.00M.08@ 106k, 24fps, video only, 329.65KiB\n",
      "133          mp4        320x240    240p  117k , mp4_dash container, avc1.4d400d@ 117k, 24fps, video only, 364.24KiB\n",
      "242          webm       320x240    240p  153k , webm_dash container, vp9@ 153k, 24fps, video only, 475.47KiB\n",
      "396          mp4        480x360    360p  190k , mp4_dash container, av01.0.01M.08@ 190k, 24fps, video only, 591.59KiB\n",
      "243          webm       480x360    360p  270k , webm_dash container, vp9@ 270k, 24fps, video only, 837.30KiB\n",
      "134          mp4        480x360    360p  336k , mp4_dash container, avc1.4d4015@ 336k, 24fps, video only, 1.02MiB\n",
      "18           mp4        480x360    360p  529k , avc1.42001E, 24fps, mp4a.40.2 (44100Hz), 1.63MiB (best)\n"
     ]
    }
   ],
   "source": [
    "!youtube-dl --list-formats \"https://www.youtube.com/watch?v=HECa3bAFAYk\"\n"
   ]
  },
  {
   "cell_type": "code",
   "execution_count": 8,
   "metadata": {},
   "outputs": [
    {
     "name": "stdout",
     "output_type": "stream",
     "text": [
      "https://rr3---sn-q4flrnlz.googlevideo.com/videoplayback?expire=1642846294&ei=9oPrYdzFB8bZuAKusKCwAg&ip=2601%3A2c1%3A8881%3A2730%3Aa9ae%3Ae5a7%3Aebff%3A6f80&id=o-AGEGu_z6MclliVwGxkv4KSxVmeQlm0fQCJhLXcOSbEF_&itag=160&aitags=133%2C134%2C160%2C242%2C243%2C278%2C394%2C395%2C396&source=youtube&requiressl=yes&mh=Yk&mm=31%2C29&mn=sn-q4flrnlz%2Csn-q4fl6nsd&ms=au%2Crdu&mv=m&mvi=3&pl=31&initcwndbps=2155000&vprv=1&mime=video%2Fmp4&ns=IkuVrDEoNWoTJfcTnOIR6CQG&gir=yes&clen=184242&dur=25.374&lmt=1507172592586304&mt=1642824314&fvip=3&keepalive=yes&fexp=24001373%2C24007246&c=WEB&n=eP5reuW-61NfT2omj10v&sparams=expire%2Cei%2Cip%2Cid%2Caitags%2Csource%2Crequiressl%2Cvprv%2Cmime%2Cns%2Cgir%2Cclen%2Cdur%2Clmt&sig=AOq0QJ8wRgIhAPFLjacUe_oigoDN-mCxlfKseX9wamvezg9ZHh_pPgXuAiEAhuOSGqyCKqizpyrEXdnEEq_5bQCGf1fVgqlVr1LLWvw%3D&lsparams=mh%2Cmm%2Cmn%2Cms%2Cmv%2Cmvi%2Cpl%2Cinitcwndbps&lsig=AG3C_xAwRQIhAOlDu-jhtdu6urCpbhylzQAepIY6R3TDwabyWxaRj2HoAiB_donkro6Nzs1oZ0Tf1Ky2YpcTB4d3vdawYc0uxXUj0A%3D%3D\n"
     ]
    }
   ],
   "source": [
    "! youtube-dl --format 160 --get-url \"https://www.youtube.com/watch?v=HECa3bAFAYk\"\n"
   ]
  },
  {
   "cell_type": "code",
   "execution_count": 9,
   "metadata": {},
   "outputs": [
    {
     "name": "stdout",
     "output_type": "stream",
     "text": [
      "Collecting ffmpeg\n",
      "  Downloading ffmpeg-1.4.tar.gz (5.1 kB)\n",
      "Building wheels for collected packages: ffmpeg\n",
      "  Building wheel for ffmpeg (setup.py) ... \u001b[?25ldone\n",
      "\u001b[?25h  Created wheel for ffmpeg: filename=ffmpeg-1.4-py3-none-any.whl size=6083 sha256=3ccfa5a936f41fe44211accdfd6e3c0628801b9787438451248f82e832fd4043\n",
      "  Stored in directory: /Users/jiwonlee/Library/Caches/pip/wheels/1d/57/24/4eff6a03a9ea0e647568e8a5a0546cdf957e3cf005372c0245\n",
      "Successfully built ffmpeg\n",
      "Installing collected packages: ffmpeg\n",
      "Successfully installed ffmpeg-1.4\n"
     ]
    }
   ],
   "source": [
    "! pip install --upgrade ffmpeg"
   ]
  },
  {
   "cell_type": "code",
   "execution_count": null,
   "metadata": {},
   "outputs": [],
   "source": [
    "import cv2\n",
    "import numpy as np\n",
    "import youtube_dl\n",
    "\n",
    "if __name__ == '__main__':\n",
    "\n",
    "    video_url = 'https://www.youtube.com/watch?v=HECa3bAFAYkq'\n",
    "\n",
    "    ydl_opts = {}\n",
    "\n",
    "    # create youtube-dl object\n",
    "    ydl = youtube_dl.YoutubeDL(ydl_opts)\n",
    "\n",
    "    # set video url, extract video information\n",
    "    info_dict = ydl.extract_info(video_url, download=False)\n",
    "\n",
    "    # get video formats available\n",
    "    formats = info_dict.get('formats',None)\n",
    "    count =0\n",
    "    for f in formats:\n",
    "\n",
    "        # I want the lowest resolution, so I set resolution as 144p\n",
    "        if f.get('format_note',None) == '144p':\n",
    "\n",
    "            #get the video url\n",
    "            url = f.get('url',None)\n",
    "\n",
    "            # open url with opencv\n",
    "            cap = cv2.VideoCapture(url)\n",
    "\n",
    "            # check if url was opened\n",
    "            if not cap.isOpened():\n",
    "                print('video not opened')\n",
    "                exit(-1)\n",
    "\n",
    "            while True:\n",
    "                # read frame\n",
    "                ret, frame = cap.read()\n",
    "\n",
    "                # check if frame is empty\n",
    "                if not ret:\n",
    "                    break\n",
    "\n",
    "                # display frame\n",
    "                cv2.imwrite(\"{}.png\".format(count), frame)\n",
    "                count+=1\n",
    "            # release VideoCapture\n",
    "            cap.release()"
   ]
  }
 ],
 "metadata": {
  "interpreter": {
   "hash": "b25b9890cc47d682a222f885a4a6ecf483edac7db7ff93e7a3b3b4ca0b74cff6"
  },
  "kernelspec": {
   "display_name": "Python 3.8.8 64-bit ('base': conda)",
   "language": "python",
   "name": "python3"
  },
  "language_info": {
   "codemirror_mode": {
    "name": "ipython",
    "version": 3
   },
   "file_extension": ".py",
   "mimetype": "text/x-python",
   "name": "python",
   "nbconvert_exporter": "python",
   "pygments_lexer": "ipython3",
   "version": "3.9.6"
  },
  "orig_nbformat": 4
 },
 "nbformat": 4,
 "nbformat_minor": 2
}
