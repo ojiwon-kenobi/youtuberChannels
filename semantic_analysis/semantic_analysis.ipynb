{
 "cells": [
  {
   "cell_type": "markdown",
   "id": "4eb33737",
   "metadata": {},
   "source": [
    "Code cleaup. Need to \n",
    "1. remove repeated sentences due to vtt formatting\n",
    "2. some words are concatenated together (helloBut--> hello But, swimming in a pool.We--> swimming in a pool. We)"
   ]
  },
  {
   "cell_type": "code",
   "execution_count": null,
   "id": "71c9d597",
   "metadata": {},
   "outputs": [],
   "source": [
    "import glob\n",
    "import json\n",
    "import regex as re\n",
    "import os\n",
    "import numpy as np\n",
    "import pandas as pd\n",
    "from nltk.corpus import stopwords\n",
    "from nltk import FreqDist\n",
    "from nltk.corpus.reader import *\n",
    "import nltk\n",
    "nltk.download('stopwords')\n",
    "nltk.download('vader_lexicon')\n",
    "from nltk.corpus import stopwords"
   ]
  },
  {
   "cell_type": "code",
   "execution_count": null,
   "id": "57e2971d",
   "metadata": {},
   "outputs": [],
   "source": [
    "with open('../channelHolisticInfo.json', 'r') as j:\n",
    "    channelHolisticInfo = json.loads(j.read())\n",
    "channelHolisticInfoDf = pd.DataFrame.from_dict(channelHolisticInfo)\n",
    "channelHolisticInfoDf.head()"
   ]
  },
  {
   "cell_type": "code",
   "execution_count": null,
   "id": "e2ffec31",
   "metadata": {},
   "outputs": [],
   "source": [
    "LIST_OF_CHANNEL_IDS = channelHolisticInfoDf['channelId'].tolist()\n",
    "LIST_OF_CHANNEL_NAMES = channelHolisticInfoDf['channelName'].tolist()\n",
    "LIST_OF_VIDEO_COUNT = channelHolisticInfoDf['videoCount'].tolist()"
   ]
  },
  {
   "cell_type": "code",
   "execution_count": null,
   "id": "4bf034e8",
   "metadata": {},
   "outputs": [],
   "source": [
    "def generateListOfSentences(filepath):\n",
    "    with open(filepath, 'r') as f:\n",
    "        lines = f.readlines()\n",
    "        strippedLines = [line.strip() for line in lines if line.strip()] \n",
    "        duplicatedLinesList = []\n",
    "        for index in range(len(strippedLines)-1):\n",
    "            duplicatedLinesList.append(strippedLines[index])\n",
    "    return [i for n, i in enumerate(duplicatedLinesList) if i not in duplicatedLinesList[:n]]\n",
    "# print(generateListOfSentences(\"UCAlxwHEm1bWWYoe5VCSQYEg/txt/_9KytbCHaXU.txt\"))\n",
    "\n",
    "def generateListOfWords(listOfSentences):\n",
    "    all_stopwords = list(stopwords.words('english'))\n",
    "    cleanedListOfWords = []\n",
    "    for words in listOfSentences:\n",
    "        word = re.split('[?.\"(),!) ]', words)\n",
    "        for wo in word:\n",
    "            if wo !='' and wo not in all_stopwords:\n",
    "                cleanedListOfWords.append(wo)\n",
    "    return cleanedListOfWords\n",
    "\n",
    "def flattenList(list):\n",
    "    flat_list = [item for sublist in list for item in sublist]\n",
    "    return flat_list\n",
    "\n",
    "#wordCloud[channelId] = all words from all .txt files with no stopwords\n",
    "#sentenceCloud[channelId] = all sentences from all .txt files.\n",
    "\n",
    "wordCloud = {}\n",
    "sentenceCloud = {}\n",
    "for channelId in LIST_OF_CHANNEL_IDS:\n",
    "    listOfSentences = []\n",
    "    listOfWords = []\n",
    "    print(channelId, \"has \", len(glob.glob(channelId+\"/txt/*.txt\")), \"files to process.\")\n",
    "    for txtFilePath in glob.glob(channelId+\"/txt/*.txt\"):\n",
    "        listOfSentences.append(generateListOfSentences(txtFilePath))\n",
    "    flattenedListOfSentences = flattenList(listOfSentences) #<--\n",
    "    flattendListOfWords = generateListOfWords(flattenedListOfSentences)\n",
    "\n",
    "    sentenceCloud[channelId.split('/')[0]] = flattenedListOfSentences\n",
    "    wordCloud[channelId.split('/')[0]] = flattendListOfWords\n",
    "    print(channelId.split('/')[0], \": \", len(flattenedListOfSentences), \"sentences total\")\n",
    "    print(channelId.split('/')[0], \": \", len(flattendListOfWords), \"words total\")\n",
    "\n",
    "    with open(channelId.split('/')[0]+\"_wordCloud.txt\", 'w') as f:\n",
    "        json.dump(flattendListOfWords, f)\n",
    "    with open(channelId.split('/')[0]+\"_sentenceCloud.txt\", 'w') as f:\n",
    "        json.dump(flattenedListOfSentences, f)"
   ]
  },
  {
   "cell_type": "code",
   "execution_count": null,
   "id": "4bf034e8",
   "metadata": {},
   "outputs": [],
   "source": [
    "#Actually create sentences. Not chunks. \n",
    "\n",
    "def generateListOfSentences(filepath):\n",
    "    with open(filepath, 'r') as f:\n",
    "        lines = f.readlines()\n",
    "        strippedLines = [line.strip() for line in lines if line.strip()] \n",
    "        removeDuplicatedLinesList = []\n",
    "        for index in range(len(strippedLines)-1):\n",
    "            removeDuplicatedLinesList.append(strippedLines[index])\n",
    "        removeDuplicatedLinesList =[i for n, i in enumerate(removeDuplicatedLinesList) if i not in removeDuplicatedLinesList[:n]]\n",
    "        # print(removeDuplicatedLinesList)\n",
    "        passage = \" \".join(removeDuplicatedLinesList)\n",
    "        print(passage)\n",
    "        # passageIntoSentences= split_into_sentences(str(passage))\n",
    "        # print(passageIntoSentences)\n",
    "    return [i for n, i in enumerate(removeDuplicatedLinesList) if i not in removeDuplicatedLinesList[:n]]\n",
    "\n",
    "generateListOfSentences(\"UCAlxwHEm1bWWYoe5VCSQYEg/txt/_9KytbCHaXU.txt\")"
   ]
  },
  {
   "cell_type": "markdown",
   "id": "efcd7524",
   "metadata": {},
   "source": [
    "Unfortunately, VADER works on sentences and what I have are fragments due to the nature of transcripts. I also tried simply detecting sentences in a punctuation-less passage but I think that takes a system that has a very good understanding of grammar and speech. There is a way to use NLTK to detect sentences in a passage if it has punctuation, but that case is straightforward.\n",
    "As seen above, without punctuations to dictate where a sentence starts and ends, it's difficult to really know how to divide it up. So I'm just going to have to accept this shortcoming. For now."
   ]
  },
  {
   "cell_type": "markdown",
   "id": "19ec14cc",
   "metadata": {},
   "source": [
    "# Holistically"
   ]
  },
  {
   "cell_type": "code",
   "execution_count": null,
   "id": "b2615b74",
   "metadata": {},
   "outputs": [],
   "source": [
    "#General sentiment by words spoken by youtubers\n",
    "\n",
    "from nltk.sentiment.vader import SentimentIntensityAnalyzer as SIA\n",
    "sia = SIA()\n",
    "results = []\n",
    "\n",
    "print(len(wordCloud.keys()))\n",
    "for channelId in LIST_OF_CHANNEL_IDS:\n",
    "    for words in wordCloud[channelId]:\n",
    "        pol_score = sia.polarity_scores(words)\n",
    "        pol_score['words']=words\n",
    "        results.append(pol_score)\n",
    "pd.set_option('display.max_columns', None, 'max_colwidth', None)\n",
    "df = pd.DataFrame.from_records(results)\n",
    "df['label']=0\n",
    "df.loc[df['compound'] > 0.10, 'label'] = 1\n",
    "df.loc[df['compound'] < -0.10, 'label'] = -1\n",
    "\n",
    "import seaborn as sns\n",
    "import matplotlib.pyplot as plt\n",
    "fix, ax = plt.subplots(figsize=(8,8))\n",
    "counts = df.label.value_counts(normalize=True)*100\n",
    "sns.barplot(x=counts.index, y=counts, ax=ax)\n",
    "ax.set_xticklabels(['Negative', 'Neutral', 'Positive'])\n",
    "ax.set_ylabel([\"Percentage\"])\n",
    "plt.show()\n",
    "\n",
    "df.head()"
   ]
  },
  {
   "cell_type": "code",
   "execution_count": null,
   "id": "81ff2229",
   "metadata": {},
   "outputs": [],
   "source": [
    "df_positive_negative = df.loc[df['label'] != 0]\n",
    "df_positive_negative.head()"
   ]
  },
  {
   "cell_type": "code",
   "execution_count": null,
   "id": "d1bd5889",
   "metadata": {},
   "outputs": [],
   "source": [
    "print(df_positive_negative.label.value_counts())"
   ]
  },
  {
   "cell_type": "code",
   "execution_count": null,
   "id": "fc4719ac",
   "metadata": {},
   "outputs": [],
   "source": [
    "fig, ax = plt.subplots(figsize=(8,8))\n",
    "counts = df_positive_negative.label.value_counts(normalize=True)*100\n",
    "sns.barplot(x=counts.index, y=counts, ax=ax)\n",
    "ax.set_xticklabels(['Neg', 'Pos'])\n",
    "ax.set_ylabel('Percentage')\n",
    "plt.show()"
   ]
  },
  {
   "cell_type": "markdown",
   "id": "91e226b0",
   "metadata": {},
   "source": [
    "Basically, compared to redditors, animation youtubers are more 'positive'"
   ]
  },
  {
   "cell_type": "markdown",
   "id": "108b1139",
   "metadata": {},
   "source": [
    "# By Channel by words"
   ]
  },
  {
   "cell_type": "code",
   "execution_count": null,
   "id": "6c222787",
   "metadata": {},
   "outputs": [],
   "source": [
    "channelId_to_df = {}\n",
    "sia = SIA()\n",
    "for channelId in LIST_OF_CHANNEL_IDS:\n",
    "    results = []\n",
    "    for words in wordCloud[channelId]:\n",
    "        pol_score = sia.polarity_scores(words)\n",
    "        pol_score['words']=words\n",
    "        results.append(pol_score)\n",
    "    pd.set_option('display.max_columns', None, 'max_colwidth', None)\n",
    "    df = pd.DataFrame.from_records(results)\n",
    "    channelId_to_df[channelId] = df\n",
    "df[150:200]"
   ]
  },
  {
   "cell_type": "code",
   "execution_count": null,
   "id": "a3c9a433",
   "metadata": {},
   "outputs": [],
   "source": [
    "from wordcloud import WordCloud\n",
    "import matplotlib.pyplot as plt\n",
    "def generateWordCloud(pos_words_str, neg_words_str):\n",
    "    wordcloud_positive = WordCloud(background_color='white').generate(pos_words_str)\n",
    "    wordcloud_negative = WordCloud().generate(neg_words_str)\n",
    "\n",
    "    plt.imshow(wordcloud_positive, interpolation=\"bilinear\")\n",
    "    plt.axis(\"off\")\n",
    "    plt.show()\n",
    "    plt.imshow(wordcloud_negative, interpolation=\"bilinear\")\n",
    "    plt.axis(\"off\")\n",
    "    plt.show()"
   ]
  },
  {
   "cell_type": "code",
   "execution_count": null,
   "id": "0ba2d461",
   "metadata": {},
   "outputs": [],
   "source": [
    "top_20_pos_words = {}\n",
    "top_20_neg_words = {}\n",
    "scores= {}\n",
    "for channelId in LIST_OF_CHANNEL_IDS:\n",
    "    target_df = channelId_to_df[channelId]\n",
    "    positive_words = list(target_df.loc[target_df['pos']==1].words)\n",
    "    positive_frequency = FreqDist(positive_words)\n",
    "    pos_freq = positive_frequency.most_common(20)\n",
    "    negative_words = list(target_df.loc[target_df['neg']==1].words)\n",
    "    negative_frequency = FreqDist(negative_words)\n",
    "    neg_freq = negative_frequency.most_common(20)\n",
    "    top_20_pos_words[channelId] = pos_freq\n",
    "    top_20_neg_words[channelId] = neg_freq\n",
    "\n",
    "    pos_words = [str(p) for p in pos_freq]\n",
    "    pos_words_str = ', '.join(pos_words)\n",
    "    neg_words = [str(n) for n in neg_freq]\n",
    "    neg_words_str = ', '.join(neg_words)\n",
    "    # generateWordCloud(pos_words_str, neg_words_str)\n",
    "\n",
    "    scores[channelId] = sum(target_df['compound'])/len(target_df)\n",
    "print(scores)"
   ]
  },
  {
   "cell_type": "markdown",
   "id": "150a3b2a",
   "metadata": {},
   "source": [
    "# By sentences"
   ]
  },
  {
   "cell_type": "code",
   "execution_count": null,
   "id": "365e7981",
   "metadata": {},
   "outputs": [],
   "source": [
    "#General sentiment by words spoken by youtubers\n",
    "\n",
    "from nltk.sentiment.vader import SentimentIntensityAnalyzer as SIA\n",
    "sia = SIA()\n",
    "results = []\n",
    "for channelId in LIST_OF_CHANNEL_IDS:\n",
    "    for sentence in sentenceCloud[channelId]:\n",
    "        pol_score = sia.polarity_scores(sentence)\n",
    "        pol_score['sentence']=sentence\n",
    "        results.append(pol_score)\n",
    "pd.set_option('display.max_columns', None, 'max_colwidth', None)\n",
    "df = pd.DataFrame.from_records(results)\n",
    "df['label']=0\n",
    "df.loc[df['compound'] > 0.10, 'label'] = 1\n",
    "df.loc[df['compound'] < -0.10, 'label'] = -1\n",
    "\n",
    "import seaborn as sns\n",
    "import matplotlib.pyplot as plt\n",
    "fix, ax = plt.subplots(figsize=(8,8))\n",
    "counts = df.label.value_counts(normalize=True)*100\n",
    "sns.barplot(x=counts.index, y=counts, ax=ax)\n",
    "ax.set_xticklabels(['Negative', 'Neutral', 'Positive'])\n",
    "ax.set_ylabel([\"Percentage\"])\n",
    "plt.show()\n",
    "\n",
    "df.head()"
   ]
  },
  {
   "cell_type": "markdown",
   "id": "7a4ab176",
   "metadata": {},
   "source": [
    "# By channel by sentences"
   ]
  },
  {
   "cell_type": "code",
   "execution_count": null,
   "id": "60ac64f3",
   "metadata": {},
   "outputs": [],
   "source": [
    "sentenceCloud[LIST_OF_CHANNEL_IDS[28]]"
   ]
  },
  {
   "cell_type": "code",
   "execution_count": null,
   "id": "8e4d498a",
   "metadata": {},
   "outputs": [],
   "source": [
    "#General sentiment by words spoken by youtubers\n",
    "\n",
    "from nltk.sentiment.vader import SentimentIntensityAnalyzer as SIA\n",
    "sia = SIA()\n",
    "channelId_to_sentencedf = {}\n",
    "\n",
    "for channelId in LIST_OF_CHANNEL_IDS:\n",
    "    results = []\n",
    "    for sentence in sentenceCloud[channelId]:\n",
    "        pol_score = sia.polarity_scores(sentence)\n",
    "        pol_score['sentence']=sentence\n",
    "        results.append(pol_score)\n",
    "    pd.set_option('display.max_columns', None, 'max_colwidth', None)\n",
    "    df = pd.DataFrame.from_records(results)\n",
    "    channelId_to_sentencedf[channelId] = df\n",
    "df['label']=0\n",
    "df.loc[df['compound'] > 0.10, 'label'] = 1\n",
    "df.loc[df['compound'] < -0.10, 'label'] = -1\n"
   ]
  },
  {
   "cell_type": "code",
   "execution_count": null,
   "id": "69e8ab96",
   "metadata": {},
   "outputs": [],
   "source": [
    "from IPython.display import display\n",
    "\n",
    "for channelId in LIST_OF_CHANNEL_IDS:\n",
    "    display(channelId_to_sentencedf[channelId][200:250])"
   ]
  },
  {
   "cell_type": "code",
   "execution_count": null,
   "id": "27d41c87",
   "metadata": {},
   "outputs": [],
   "source": [
    "df_positive_negative = df.loc[df['label'] != 0]\n",
    "df_positive_negative.head()"
   ]
  },
  {
   "cell_type": "code",
   "execution_count": null,
   "id": "5b5e09e2",
   "metadata": {},
   "outputs": [],
   "source": [
    "print(df_positive_negative.label.value_counts())"
   ]
  },
  {
   "cell_type": "code",
   "execution_count": null,
   "id": "43a565c0",
   "metadata": {},
   "outputs": [],
   "source": [
    "fig, ax = plt.subplots(figsize=(8,8))\n",
    "counts = df_positive_negative.label.value_counts(normalize=True)*100\n",
    "sns.barplot(x=counts.index, y=counts, ax=ax)\n",
    "ax.set_xticklabels(['Neg', 'Pos'])\n",
    "ax.set_ylabel('Percentage')\n",
    "plt.show()"
   ]
  },
  {
   "cell_type": "code",
   "execution_count": null,
   "id": "ae439afb",
   "metadata": {},
   "outputs": [],
   "source": [
    "top_20_pos_words = {}\n",
    "top_20_neg_words = {}\n",
    "scores= {}\n",
    "for channelId in LIST_OF_CHANNEL_IDS:\n",
    "    target_df = channelId_to_sentencedf[channelId]\n",
    "    positive_words = list(target_df.loc[target_df['pos']==1].sentence)\n",
    "    positive_frequency = FreqDist(positive_words)\n",
    "    pos_freq = positive_frequency.most_common(20)\n",
    "    negative_words = list(target_df.loc[target_df['neg']==1].sentence)\n",
    "    negative_frequency = FreqDist(negative_words)\n",
    "    neg_freq = negative_frequency.most_common(20)\n",
    "    top_20_pos_words[channelId] = pos_freq\n",
    "    top_20_neg_words[channelId] = neg_freq\n",
    "\n",
    "    pos_words = [str(p) for p in pos_freq]\n",
    "    pos_words_str = ', '.join(pos_words)\n",
    "    neg_words = [str(n) for n in neg_freq]\n",
    "    neg_words_str = ', '.join(neg_words)\n",
    "    # generateWordCloud(pos_words_str, neg_words_str)\n",
    "\n",
    "    scores[channelId] = sum(target_df['compound'])/len(target_df)\n",
    "# print(scores)\n",
    "\n",
    "channelName_to_scores = {}\n",
    "for i in range(0, len(LIST_OF_CHANNEL_NAMES)):\n",
    "    channelName_to_scores[LIST_OF_CHANNEL_NAMES[i]] = list(scores.values())[i]\n",
    "\n",
    "avg_score=sum(channelName_to_scores.values())/len(LIST_OF_CHANNEL_NAMES)\n",
    "print(\"avg score =\", avg_score)\n",
    "print(channelName_to_scores)\n",
    "print(sorted(channelName_to_scores.items(), key=lambda item: item[1]))"
   ]
  },
  {
   "cell_type": "code",
   "execution_count": null,
   "id": "3b63fd91",
   "metadata": {},
   "outputs": [],
   "source": [
    "sorted_channelName_to_scores = dict(sorted(channelName_to_scores.items(), key=lambda item: item[1]))\n",
    "sctsdf = pd.DataFrame.from_dict({'channelName':sorted_channelName_to_scores.keys(), 'scores': sorted_channelName_to_scores.values()})\n",
    "sctsdf"
   ]
  },
  {
   "cell_type": "code",
   "execution_count": null,
   "id": "ffcb8406",
   "metadata": {},
   "outputs": [],
   "source": [
    "import matplotlib.pyplot as plt\n",
    "import pandas as pd\n",
    "import mplcursors\n",
    "%matplotlib widget\n",
    "\n",
    "x_name = \"Channel Name\"\n",
    "y_name = \"Positivity :)\"\n",
    "tooltip_name = \"positivity value\"\n",
    "\n",
    "x= sctsdf['channelName']\n",
    "y= sctsdf['scores']\n",
    "tt = sctsdf['scores']\n",
    "\n",
    "fig, ax = plt.subplots(1, figsize=(12,6))\n",
    "sc = ax.scatter(x, y)\n",
    "# Plot the average line\n",
    "mean_x=np.arange(0,33,1)\n",
    "mean_y=[avg_score for i in np.zeros_like(x)]\n",
    "mean_line = ax.plot(mean_x,mean_y, label='Mean', linestyle='--')\n",
    "plt.tick_params(\n",
    "    axis='x',          # changes apply to the x-axis\n",
    "    which='both',      # both major and minor ticks are affected\n",
    "    bottom=False,      # ticks along the bottom edge are off\n",
    "    top=False,         # ticks along the top edge are off\n",
    "    labelbottom=False) # labels along the bottom edge are off\n",
    "cursor = mplcursors.cursor(sc, hover=True)\n",
    "\n",
    "plt.xlabel(x_name)\n",
    "plt.ylabel(y_name)\n",
    "plt.show()\n"
   ]
  },
  {
   "cell_type": "code",
   "execution_count": null,
   "id": "a731ef75",
   "metadata": {},
   "outputs": [],
   "source": [
    "num_of_files = []\n",
    "for channelId in LIST_OF_CHANNEL_IDS:\n",
    "    num_of_files.append(len(os.listdir(channelId+\"/txt/\")))\n",
    " \n",
    "cntvdf = pd.DataFrame.from_dict({'channelName':LIST_OF_CHANNEL_NAMES, 'number of transcripts collected': num_of_files, 'number of vids': LIST_OF_VIDEO_COUNT})\n",
    "\n",
    "cntvdf"
   ]
  },
  {
   "cell_type": "code",
   "execution_count": null,
   "id": "00a71648",
   "metadata": {},
   "outputs": [],
   "source": [
    "representation = sum(cntvdf['number of transcripts collected'])/sum(cntvdf['number of vids'])\n",
    "print(representation)"
   ]
  },
  {
   "cell_type": "code",
   "execution_count": null,
   "id": "e43ffdfa",
   "metadata": {},
   "outputs": [],
   "source": [
    "#https://towardsai.net/p/data-science/how-when-and-why-should-you-normalize-standardize-rescale-your-data-3f083def38ff\n",
    "subsPerYearSinceFirstUpload = channelHolisticInfoDf['subscribersPerYearSinceFirstUpload']"
   ]
  },
  {
   "cell_type": "code",
   "execution_count": null,
   "id": "beb5dcf7",
   "metadata": {},
   "outputs": [],
   "source": [
    "zipped = zip(channelHolisticInfoDf.channelName, channelHolisticInfoDf.subscribersPerYearSinceFirstUpload)\n",
    "sorted_channelName_to_rescaledSubs = dict(sorted(dict(zipped).items(), key=lambda item: item[1]))\n",
    "sctrs = pd.DataFrame.from_dict({'channelName': sorted_channelName_to_rescaledSubs.keys(), 'rescaledSubCount': sorted_channelName_to_rescaledSubs.values()})\n",
    "sctrs"
   ]
  },
  {
   "cell_type": "code",
   "execution_count": null,
   "id": "b8fb061d",
   "metadata": {},
   "outputs": [],
   "source": [
    "x_name = \"Channel\"\n",
    "y_name = \"rescaledSubCount\"\n",
    "tooltip_name = \"subCountPerYearSinceFirstUpload\"\n",
    "\n",
    "x= sctrs['channelName']\n",
    "y= sctrs['rescaledSubCount']\n",
    "tt = sctrs['rescaledSubCount']\n",
    "\n",
    "fig, ax = plt.subplots(1, figsize=(12,6))\n",
    "sc = ax.scatter(x, y)\n",
    "avg_rescaledSubcount= sum(y)/len(LIST_OF_CHANNEL_NAMES)\n",
    "# Plot the average line\n",
    "mean_x=np.arange(0,33,1)\n",
    "mean_y=[avg_rescaledSubcount for i in np.zeros_like(x)]\n",
    "mean_line = ax.plot(mean_x, mean_y, label='Mean', linestyle='--')\n",
    "plt.tick_params(\n",
    "    axis='x',          # changes apply to the x-axis\n",
    "    which='both',      # both major and minor ticks are affected\n",
    "    bottom=False,      # ticks along the bottom edge are off\n",
    "    top=False,         # ticks along the top edge are off\n",
    "    labelbottom=False) # labels along the bottom edge are off\n",
    "cursor = mplcursors.cursor(sc, hover=True)\n",
    "\n",
    "plt.xlabel(x_name)\n",
    "plt.ylabel(y_name)\n",
    "plt.show()"
   ]
  },
  {
   "cell_type": "code",
   "execution_count": 182,
   "id": "197c963a",
   "metadata": {},
   "outputs": [
    {
     "data": {
      "application/vnd.jupyter.widget-view+json": {
       "model_id": "e1bf26645d1b4b8391e7b81721911bff",
       "version_major": 2,
       "version_minor": 0
      },
      "image/png": "[encoded data removed]",
      "text/html": [
       "\n",
       "            <div style=\"display: inline-block;\">\n",
       "                <div class=\"jupyter-widgets widget-label\" style=\"text-align: center;\">\n",
       "                    Figure\n",
       "                </div>\n",
       "                <img src='data:image/png;base64,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' width=1200.0/>\n",
       "            </div>\n",
       "        "
      ],
      "text/plain": [
       "Canvas(toolbar=Toolbar(toolitems=[('Home', 'Reset original view', 'home', 'home'), ('Back', 'Back to previous …"
      ]
     },
     "metadata": {},
     "output_type": "display_data"
    }
   ],
   "source": [
    "semantic_df = pd.DataFrame.from_dict({'channelName': channelHolisticInfoDf['channelName'], 'rescaledSubCount': subsPerYearSinceFirstUpload, 'positivityScores': channelName_to_scores.values()})\n",
    "def generate_plot(semantic_df):\n",
    "    x_name = \"semantically positive\"\n",
    "    y_name = \"rescaledSubCount\"\n",
    "    tooltip_name = \"channelName\"\n",
    "    x= semantic_df['positivityScores']\n",
    "    y= semantic_df['rescaledSubCount']\n",
    "    tt = semantic_df[tooltip_name]\n",
    "    fig, ax = plt.subplots(1, figsize=(12,6))\n",
    "    sc = ax.scatter(x, y)\n",
    "\n",
    "    avg_rescaledSubcount= sum(y)/len(LIST_OF_CHANNEL_NAMES)\n",
    "    # Plot the average line\n",
    "    mean_x=np.arange(0,33,1)\n",
    "    mean_y=[avg_rescaledSubcount for i in np.zeros_like(x)]\n",
    "    # mean_line = ax.plot(mean_x, mean_y, label='Mean', linestyle='--')\n",
    "\n",
    "    annot = ax.annotate(\"\", xy=(0,0), xytext=(20,20),textcoords=\"offset points\",\n",
    "                        bbox=dict(boxstyle=\"round\", fc=\"w\"),\n",
    "                        arrowprops=dict(arrowstyle=\"->\"))\n",
    "    annot.set_visible(False)\n",
    "\n",
    "    def update_annot(details):\n",
    "        pos = sc.get_offsets()[details[\"channelName\"]]\n",
    "        annot.xy = pos\n",
    "        text = \"{}, {}\".format(\" \".join(details[\"channelName\"]), \n",
    "                            \" \".join([details[\"positivityScores\"]]))\n",
    "        annot.set_text(text)\n",
    "        annot.get_bbox_patch().set_alpha(0.4)\n",
    "\n",
    "    def hover(event):\n",
    "        vis = annot.get_visible()\n",
    "        if event.inaxes == ax:\n",
    "            cont, details = sc.contains(event)\n",
    "            if cont:\n",
    "                update_annot(details)\n",
    "                annot.set_visible(True)\n",
    "                fig.canvas.draw_idle()\n",
    "            else:\n",
    "                if vis:\n",
    "                    annot.set_visible(False)\n",
    "                    fig.canvas.draw_idle()\n",
    "\n",
    "    cursor = mplcursors.cursor(sc, hover=True)\n",
    "    cursor.connect(\n",
    "    \"add\", lambda sel: sel.annotation.set_text(tt[sel.index]))\n",
    "    plt.xlabel(x_name)\n",
    "    plt.ylabel(y_name)\n",
    "    plt.show()\n",
    "\n",
    "    m, b = np.polyfit(x, y, 1)\n",
    "    plt.plot(x, m*x + b)\n",
    "generate_plot(semantic_df)"
   ]
  },
  {
   "cell_type": "markdown",
   "id": "d595adf3",
   "metadata": {},
   "source": [
    "Pretty sure Oversimplified (and tbh, Odd1sOut) is messing up my calculations. "
   ]
  },
  {
   "cell_type": "code",
   "execution_count": null,
   "id": "4d2af795",
   "metadata": {},
   "outputs": [],
   "source": [
    "semantic_df = pd.DataFrame.from_dict({'channelName': channelHolisticInfoDf['channelName'], 'rescaledSubCount': subsPerYearSinceFirstUpload, 'positivityScores': channelName_to_scores.values()})\n",
    "semantic_df"
   ]
  },
  {
   "cell_type": "code",
   "execution_count": null,
   "id": "759d16cd",
   "metadata": {},
   "outputs": [],
   "source": [
    "import numpy as np\n",
    "import pandas as pd\n",
    "outliers=[]\n",
    "def detect_outlier(data_1):\n",
    "    threshold=3\n",
    "    mean_1 = np.mean(data_1)\n",
    "    std_1 =np.std(data_1)\n",
    "    \n",
    "    index =0\n",
    "    for y in data_1:\n",
    "        print(y)\n",
    "        z_score= (y - mean_1)/std_1 \n",
    "        if np.abs(z_score) > threshold:\n",
    "            outliers.append((index, y))\n",
    "        index+=1\n",
    "    return outliers\n",
    "print(detect_outlier(subsPerYearSinceFirstUpload))\n",
    "print(detect_outlier(list(channelName_to_scores.values())))"
   ]
  },
  {
   "cell_type": "code",
   "execution_count": 157,
   "id": "8d3656f8",
   "metadata": {},
   "outputs": [
    {
     "data": {
      "application/vnd.jupyter.widget-view+json": {
       "model_id": "e60c680b033945e0a61769c6d35993f9",
       "version_major": 2,
       "version_minor": 0
      },
      "image/png": "[encoded data removed]",
      "text/html": [
       "\n",
       "            <div style=\"display: inline-block;\">\n",
       "                <div class=\"jupyter-widgets widget-label\" style=\"text-align: center;\">\n",
       "                    Figure\n",
       "                </div>\n",
       "                <img src='data:image/png;base64,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' width=1200.0/>\n",
       "            </div>\n",
       "        "
      ],
      "text/plain": [
       "Canvas(toolbar=Toolbar(toolitems=[('Home', 'Reset original view', 'home', 'home'), ('Back', 'Back to previous …"
      ]
     },
     "metadata": {},
     "output_type": "display_data"
    },
    {
     "data": {
      "application/vnd.jupyter.widget-view+json": {
       "model_id": "b84cbbb3f49643ce8dd69ef29f9aa657",
       "version_major": 2,
       "version_minor": 0
      },
      "image/png": "[encoded data removed]",
      "text/html": [
       "\n",
       "            <div style=\"display: inline-block;\">\n",
       "                <div class=\"jupyter-widgets widget-label\" style=\"text-align: center;\">\n",
       "                    Figure\n",
       "                </div>\n",
       "                <img src='data:image/png;base64,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' width=1200.0/>\n",
       "            </div>\n",
       "        "
      ],
      "text/plain": [
       "Canvas(toolbar=Toolbar(toolitems=[('Home', 'Reset original view', 'home', 'home'), ('Back', 'Back to previous …"
      ]
     },
     "metadata": {},
     "output_type": "display_data"
    }
   ],
   "source": [
    "copy_without_oversimplified = semantic_df.drop('23')\n",
    "copy_without_odd1sout = semantic_df.drop(['24'])\n",
    "copy_without_oversimplified_and_odd1sout = semantic_df.drop(['23','24'])\n",
    "semantic_df_copy_without_oversimplified = pd.DataFrame.from_dict(json.loads(json.dumps(copy_without_oversimplified.to_dict())))\n",
    "semantic_df_copy_without_odd1sout = pd.DataFrame.from_dict(json.loads(json.dumps(copy_without_odd1sout.to_dict())))\n",
    "semantic_df_copy_without_oversimplified_and_odd1sout = pd.DataFrame.from_dict(json.loads(json.dumps(copy_without_oversimplified_and_odd1sout.to_dict())))\n",
    "\n",
    "generate_plot(semantic_df_copy_without_oversimplified)\n",
    "generate_plot(semantic_df_copy_without_odd1sout)"
   ]
  },
  {
   "cell_type": "markdown",
   "id": "36ec2ccd",
   "metadata": {},
   "source": [
    "So how exactly strong is the correlation? \n",
    "\n",
    "If the rvalue is close to 0, then literally, there's no relationship between how positive a channel is. Using rvalue instead of r^2 because I just have two terms"
   ]
  },
  {
   "cell_type": "code",
   "execution_count": 191,
   "id": "fc9eda2c",
   "metadata": {},
   "outputs": [
    {
     "name": "stdout",
     "output_type": "stream",
     "text": [
      "-0.2071749572877416\n",
      "removed positivity outlier:  -0.07678611344603309\n",
      "removed subCount outlier:  -0.22544545509330252\n",
      "removed both subCount and positivity outliers:  0.023909166953822544\n"
     ]
    }
   ],
   "source": [
    "import numpy as np\n",
    "import scipy.stats\n",
    "x= 'rescaledSubCount'\t\n",
    "y= 'positivityScores'\n",
    "result = scipy.stats.linregress(semantic_df[x], semantic_df[y])\n",
    "result_no_oversimplified = scipy.stats.linregress(semantic_df_copy_without_oversimplified[x], semantic_df_copy_without_oversimplified[y])\n",
    "result_no_odd1sout = scipy.stats.linregress(semantic_df_copy_without_odd1sout[x], semantic_df_copy_without_odd1sout[y])\n",
    "result_no_oversimplified_and_odd1sout = scipy.stats.linregress(semantic_df_copy_without_oversimplified_and_odd1sout[x], semantic_df_copy_without_oversimplified_and_odd1sout[y])\n",
    "\n",
    "print(result.rvalue)\n",
    "print(\"removed positivity outlier: \", result_no_oversimplified.rvalue)\n",
    "print(\"removed subCount outlier: \", result_no_odd1sout.rvalue)\n",
    "print(\"removed both subCount and positivity outliers: \", result_no_oversimplified_and_odd1sout.rvalue)"
   ]
  },
  {
   "cell_type": "markdown",
   "id": "1c8aabb0",
   "metadata": {},
   "source": [
    "Tbh, the results kind of suck. \n",
    "Need to test the null hypothesis\n",
    "The null hypothesis is a typical statistical theory which suggests that **no statistical relationship and significance exists in a set of given single observed variable**, between two sets of observed data and measured phenomena."
   ]
  },
  {
   "cell_type": "code",
   "execution_count": 173,
   "id": "0e571fb4",
   "metadata": {},
   "outputs": [
    {
     "name": "stdout",
     "output_type": "stream",
     "text": [
      "[(array([0.07597388]), array([0.0224292]), 1, array([1.]), 7.327471962526033e-15), (array([-1.17929392e-08,  8.12187278e-02]), array([0.02146651]), 2, array([1.30255482, 0.55077303]), 7.327471962526033e-15), (array([ 7.36005838e-15, -2.70476842e-08,  8.50035159e-02]), array([0.02122847]), 3, array([1.52347189, 0.80039709, 0.19595383]), 7.327471962526033e-15), (array([ 1.18886487e-20, -3.14317219e-14,  8.48667031e-10,  8.10830920e-02]), array([0.02104798]), 4, array([1.74392193, 0.9376365 , 0.27889379, 0.04233632]), 7.327471962526033e-15), (array([-1.02651086e-26,  5.52715785e-20, -8.48011495e-14,  2.12539257e-08,\n",
      "        7.93562756e-02]), array([0.0210285]), 5, array([1.96316634, 1.01496675, 0.3335451 , 0.06734939, 0.00566882]), 7.327471962526033e-15)]\n"
     ]
    }
   ],
   "source": [
    "result_polyfit_lst = []\n",
    "for i in range(5):\n",
    "    result_polyfit_lst.append(np.polyfit(semantic_df[x], semantic_df[y], i, full=True))\n",
    "print([i for i in result_polyfit_lst])"
   ]
  },
  {
   "cell_type": "markdown",
   "id": "8430e1ef",
   "metadata": {},
   "source": [
    "! https://opentextbc.ca/researchmethods/chapter/understanding-null-hypothesis-testing/\n",
    "A crucial step in null hypothesis testing is finding the likelihood of the sample result if the null hypothesis were true. This probability is called the p value. A low p value means that the sample result would be unlikely if the null hypothesis were true and leads to the rejection of the null hypothesis. A high p value means that the sample result would be likely if the null hypothesis were true and leads to the retention of the null hypothesis. But how low must the p value be before the sample result is considered unlikely enough to reject the null hypothesis? In null hypothesis testing, this criterion is called α (alpha) and is almost always set to .05. If there is less than a 5% chance of a result as extreme as the sample result if the null hypothesis were true, then the null hypothesis is rejected. When this happens, the result is said to be statistically significant. If there is greater than a 5% chance of a result as extreme as the sample result when the null hypothesis is true, then the null hypothesis is retained. This does not necessarily mean that the researcher accepts the null hypothesis as true—only that there is not currently enough evidence to conclude that it is true. Researchers often use the expression “fail to reject the null hypothesis” rather than “retain the null hypothesis,” but they never use the expression “accept the null hypothesis.”\n",
    "\n",
    "> The Misunderstood p Value\n",
    "\n",
    "> The p value is one of the most misunderstood quantities in psychological research (Cohen, 1994)[1]. Even professional researchers misinterpret it, and it is not unusual for such misinterpretations to appear in statistics textbooks!\n",
    "\n",
    "> The most common misinterpretation is that the p value is the probability that the null hypothesis is true—that the sample result occurred by chance. For example, a misguided researcher might say that because the p value is .02, there is only a 2% chance that the result is due to chance and a 98% chance that it reflects a real relationship in the population. But this is incorrect. The p value is really the probability of a result at least as extreme as the sample result if the null hypothesis were true. So a p value of .02 means that if the null hypothesis were true, a sample result this extreme would occur only 2% of the time.\n",
    "\n",
    "> You can avoid this misunderstanding by remembering that the p value is not the probability that any particular hypothesis is true or false. Instead, it is the probability of obtaining the sample result if the null hypothesis were true."
   ]
  },
  {
   "cell_type": "markdown",
   "id": "cb787428",
   "metadata": {},
   "source": [
    "I need a z-statistic or a t-statistic.\n",
    "What the f are those?\n",
    "    A z-score, or z-statistic, is a number representing how many standard deviations above or below the mean population the score derived from a z-test is. Essentially, it is a numerical measurement that describes a value's relationship to the mean of a group of values.\n",
    "\n",
    "It's the same thing as a z-score, I guess. So calculate and plot the z-score? and then what?"
   ]
  },
  {
   "cell_type": "markdown",
   "id": "8754cb27",
   "metadata": {},
   "source": [
    "ok. too complicated.\n",
    "\n",
    "I talked with my sister who just woke up for some suggestions. \n",
    "\n",
    "\"Just square or log it\"\n",
    "\n",
    "\"But I want to either prove or disprove that there is no correlation.\"\n",
    "\n",
    "After a lengthy discussion of what p-values are, how to find causation between variables, what we wanted to eat for lunch and dinner, I googled a couple of things which eventually led me to this stackexchange post: https://stats.stackexchange.com/questions/99874/how-to-show-that-there-is-no-relationship"
   ]
  },
  {
   "cell_type": "markdown",
   "id": "639f5f95",
   "metadata": {},
   "source": [
    "ACE. I was like whoa. And then omg somebody freakin implemented it already! And IT'S MIT LICENSE!!!!"
   ]
  },
  {
   "cell_type": "code",
   "execution_count": 208,
   "id": "20c47efb",
   "metadata": {},
   "outputs": [
    {
     "name": "stdout",
     "output_type": "stream",
     "text": [
      "5 200 200\n",
      "* Starting outer iteration 000. Current err =  1.00000E+00\n",
      "  Starting inner iteration 000. Current err =  1.00000E+00\n",
      "  Starting inner iteration 001. Current err =  4.80949E-02\n",
      "  Starting inner iteration 002. Current err =  1.94728E-02\n",
      "  Starting inner iteration 003. Current err =  1.81404E-02\n",
      "* Starting outer iteration 001. Current err =  8.85987E-03\n",
      "  Starting inner iteration 000. Current err =  8.85987E-03\n",
      "  Starting inner iteration 001. Current err =  6.10064E-03\n",
      "  Starting inner iteration 002. Current err =  5.55106E-03\n",
      "  Starting inner iteration 003. Current err =  5.49509E-03\n",
      "  Starting inner iteration 004. Current err =  5.46719E-03\n",
      "  Starting inner iteration 005. Current err =  5.43126E-03\n",
      "  Starting inner iteration 006. Current err =  5.42857E-03\n",
      "* Starting outer iteration 002. Current err =  4.61357E-03\n",
      "  Starting inner iteration 000. Current err =  4.61357E-03\n",
      "  Starting inner iteration 001. Current err =  4.51962E-03\n",
      "  Starting inner iteration 002. Current err =  4.44851E-03\n",
      "  Starting inner iteration 003. Current err =  4.44361E-03\n",
      "* Starting outer iteration 003. Current err =  4.13827E-03\n",
      "  Starting inner iteration 000. Current err =  4.13827E-03\n",
      "* Starting outer iteration 004. Current err =  4.10669E-03\n",
      "  Starting inner iteration 000. Current err =  4.10669E-03\n"
     ]
    },
    {
     "data": {
      "text/plain": [
       "1.6769073996579134"
      ]
     },
     "execution_count": 208,
     "metadata": {},
     "output_type": "execute_result"
    }
   ],
   "source": [
    "from ace.samples import wang04\n",
    "x, y = wang04.build_sample_ace_problem_wang04(N=200)\n",
    "print(len(x), len(x[0]), len(y))\n",
    "from ace import model\n",
    "myace = model.Model()\n",
    "myace.build_model_from_xy(x, y)\n",
    "myace.eval([0.1, 0.2, 0.5, 0.3, 0.5])"
   ]
  },
  {
   "cell_type": "code",
   "execution_count": 210,
   "id": "db6599b6",
   "metadata": {},
   "outputs": [
    {
     "name": "stdout",
     "output_type": "stream",
     "text": [
      "1\n",
      "66\n",
      "66\n",
      "* Starting outer iteration 000. Current err =  1.00000E+00\n",
      "  Starting inner iteration 000. Current err =  1.00000E+00\n",
      "  Starting inner iteration 001. Current err =  9.43416E-01\n",
      "* Starting outer iteration 001. Current err =  8.42343E-01\n",
      "  Starting inner iteration 000. Current err =  8.42343E-01\n",
      "  Starting inner iteration 001. Current err =  4.82805E-01\n",
      "* Starting outer iteration 002. Current err =  3.64439E-01\n",
      "  Starting inner iteration 000. Current err =  3.64439E-01\n"
     ]
    },
    {
     "ename": "ValueError",
     "evalue": "A value in x_new is below the interpolation range.",
     "output_type": "error",
     "traceback": [
      "\u001b[0;31m---------------------------------------------------------------------------\u001b[0m",
      "\u001b[0;31mValueError\u001b[0m                                Traceback (most recent call last)",
      "\u001b[0;32m<ipython-input-210-a937dc8f4f07>\u001b[0m in \u001b[0;36m<module>\u001b[0;34m\u001b[0m\n\u001b[1;32m     10\u001b[0m \u001b[0;34m\u001b[0m\u001b[0m\n\u001b[1;32m     11\u001b[0m \u001b[0mmyace\u001b[0m\u001b[0;34m.\u001b[0m\u001b[0mbuild_model_from_xy\u001b[0m\u001b[0;34m(\u001b[0m\u001b[0;34m[\u001b[0m\u001b[0msemantic_df\u001b[0m\u001b[0;34m[\u001b[0m\u001b[0mx\u001b[0m\u001b[0;34m]\u001b[0m\u001b[0;34m]\u001b[0m\u001b[0;34m,\u001b[0m \u001b[0msemantic_df\u001b[0m\u001b[0;34m[\u001b[0m\u001b[0my\u001b[0m\u001b[0;34m]\u001b[0m\u001b[0;34m)\u001b[0m\u001b[0;34m\u001b[0m\u001b[0;34m\u001b[0m\u001b[0m\n\u001b[0;32m---> 12\u001b[0;31m \u001b[0mmyace\u001b[0m\u001b[0;34m.\u001b[0m\u001b[0meval\u001b[0m\u001b[0;34m(\u001b[0m\u001b[0;34m[\u001b[0m\u001b[0;36m0.1\u001b[0m\u001b[0;34m]\u001b[0m\u001b[0;34m)\u001b[0m\u001b[0;34m\u001b[0m\u001b[0;34m\u001b[0m\u001b[0m\n\u001b[0m",
      "\u001b[0;32m~/opt/anaconda3/lib/python3.8/site-packages/ace/model.py\u001b[0m in \u001b[0;36meval\u001b[0;34m(self, x_values)\u001b[0m\n\u001b[1;32m    101\u001b[0m                                                              len(x_values)))\n\u001b[1;32m    102\u001b[0m \u001b[0;34m\u001b[0m\u001b[0m\n\u001b[0;32m--> 103\u001b[0;31m         \u001b[0msum_phi\u001b[0m \u001b[0;34m=\u001b[0m \u001b[0msum\u001b[0m\u001b[0;34m(\u001b[0m\u001b[0;34m[\u001b[0m\u001b[0mphi\u001b[0m\u001b[0;34m(\u001b[0m\u001b[0mxi\u001b[0m\u001b[0;34m)\u001b[0m \u001b[0;32mfor\u001b[0m \u001b[0mphi\u001b[0m\u001b[0;34m,\u001b[0m \u001b[0mxi\u001b[0m \u001b[0;32min\u001b[0m \u001b[0mzip\u001b[0m\u001b[0;34m(\u001b[0m\u001b[0mself\u001b[0m\u001b[0;34m.\u001b[0m\u001b[0mphi_continuous\u001b[0m\u001b[0;34m,\u001b[0m \u001b[0mx_values\u001b[0m\u001b[0;34m)\u001b[0m\u001b[0;34m]\u001b[0m\u001b[0;34m)\u001b[0m\u001b[0;34m\u001b[0m\u001b[0;34m\u001b[0m\u001b[0m\n\u001b[0m\u001b[1;32m    104\u001b[0m         \u001b[0;32mreturn\u001b[0m \u001b[0mfloat\u001b[0m\u001b[0;34m(\u001b[0m\u001b[0mself\u001b[0m\u001b[0;34m.\u001b[0m\u001b[0minverse_theta_continuous\u001b[0m\u001b[0;34m(\u001b[0m\u001b[0msum_phi\u001b[0m\u001b[0;34m)\u001b[0m\u001b[0;34m)\u001b[0m\u001b[0;34m\u001b[0m\u001b[0;34m\u001b[0m\u001b[0m\n\u001b[1;32m    105\u001b[0m \u001b[0;34m\u001b[0m\u001b[0m\n",
      "\u001b[0;32m~/opt/anaconda3/lib/python3.8/site-packages/ace/model.py\u001b[0m in \u001b[0;36m<listcomp>\u001b[0;34m(.0)\u001b[0m\n\u001b[1;32m    101\u001b[0m                                                              len(x_values)))\n\u001b[1;32m    102\u001b[0m \u001b[0;34m\u001b[0m\u001b[0m\n\u001b[0;32m--> 103\u001b[0;31m         \u001b[0msum_phi\u001b[0m \u001b[0;34m=\u001b[0m \u001b[0msum\u001b[0m\u001b[0;34m(\u001b[0m\u001b[0;34m[\u001b[0m\u001b[0mphi\u001b[0m\u001b[0;34m(\u001b[0m\u001b[0mxi\u001b[0m\u001b[0;34m)\u001b[0m \u001b[0;32mfor\u001b[0m \u001b[0mphi\u001b[0m\u001b[0;34m,\u001b[0m \u001b[0mxi\u001b[0m \u001b[0;32min\u001b[0m \u001b[0mzip\u001b[0m\u001b[0;34m(\u001b[0m\u001b[0mself\u001b[0m\u001b[0;34m.\u001b[0m\u001b[0mphi_continuous\u001b[0m\u001b[0;34m,\u001b[0m \u001b[0mx_values\u001b[0m\u001b[0;34m)\u001b[0m\u001b[0;34m]\u001b[0m\u001b[0;34m)\u001b[0m\u001b[0;34m\u001b[0m\u001b[0;34m\u001b[0m\u001b[0m\n\u001b[0m\u001b[1;32m    104\u001b[0m         \u001b[0;32mreturn\u001b[0m \u001b[0mfloat\u001b[0m\u001b[0;34m(\u001b[0m\u001b[0mself\u001b[0m\u001b[0;34m.\u001b[0m\u001b[0minverse_theta_continuous\u001b[0m\u001b[0;34m(\u001b[0m\u001b[0msum_phi\u001b[0m\u001b[0;34m)\u001b[0m\u001b[0;34m)\u001b[0m\u001b[0;34m\u001b[0m\u001b[0;34m\u001b[0m\u001b[0m\n\u001b[1;32m    105\u001b[0m \u001b[0;34m\u001b[0m\u001b[0m\n",
      "\u001b[0;32m~/opt/anaconda3/lib/python3.8/site-packages/scipy/interpolate/polyint.py\u001b[0m in \u001b[0;36m__call__\u001b[0;34m(self, x)\u001b[0m\n\u001b[1;32m     76\u001b[0m         \"\"\"\n\u001b[1;32m     77\u001b[0m         \u001b[0mx\u001b[0m\u001b[0;34m,\u001b[0m \u001b[0mx_shape\u001b[0m \u001b[0;34m=\u001b[0m \u001b[0mself\u001b[0m\u001b[0;34m.\u001b[0m\u001b[0m_prepare_x\u001b[0m\u001b[0;34m(\u001b[0m\u001b[0mx\u001b[0m\u001b[0;34m)\u001b[0m\u001b[0;34m\u001b[0m\u001b[0;34m\u001b[0m\u001b[0m\n\u001b[0;32m---> 78\u001b[0;31m         \u001b[0my\u001b[0m \u001b[0;34m=\u001b[0m \u001b[0mself\u001b[0m\u001b[0;34m.\u001b[0m\u001b[0m_evaluate\u001b[0m\u001b[0;34m(\u001b[0m\u001b[0mx\u001b[0m\u001b[0;34m)\u001b[0m\u001b[0;34m\u001b[0m\u001b[0;34m\u001b[0m\u001b[0m\n\u001b[0m\u001b[1;32m     79\u001b[0m         \u001b[0;32mreturn\u001b[0m \u001b[0mself\u001b[0m\u001b[0;34m.\u001b[0m\u001b[0m_finish_y\u001b[0m\u001b[0;34m(\u001b[0m\u001b[0my\u001b[0m\u001b[0;34m,\u001b[0m \u001b[0mx_shape\u001b[0m\u001b[0;34m)\u001b[0m\u001b[0;34m\u001b[0m\u001b[0;34m\u001b[0m\u001b[0m\n\u001b[1;32m     80\u001b[0m \u001b[0;34m\u001b[0m\u001b[0m\n",
      "\u001b[0;32m~/opt/anaconda3/lib/python3.8/site-packages/scipy/interpolate/interpolate.py\u001b[0m in \u001b[0;36m_evaluate\u001b[0;34m(self, x_new)\u001b[0m\n\u001b[1;32m    675\u001b[0m         \u001b[0my_new\u001b[0m \u001b[0;34m=\u001b[0m \u001b[0mself\u001b[0m\u001b[0;34m.\u001b[0m\u001b[0m_call\u001b[0m\u001b[0;34m(\u001b[0m\u001b[0mself\u001b[0m\u001b[0;34m,\u001b[0m \u001b[0mx_new\u001b[0m\u001b[0;34m)\u001b[0m\u001b[0;34m\u001b[0m\u001b[0;34m\u001b[0m\u001b[0m\n\u001b[1;32m    676\u001b[0m         \u001b[0;32mif\u001b[0m \u001b[0;32mnot\u001b[0m \u001b[0mself\u001b[0m\u001b[0;34m.\u001b[0m\u001b[0m_extrapolate\u001b[0m\u001b[0;34m:\u001b[0m\u001b[0;34m\u001b[0m\u001b[0;34m\u001b[0m\u001b[0m\n\u001b[0;32m--> 677\u001b[0;31m             \u001b[0mbelow_bounds\u001b[0m\u001b[0;34m,\u001b[0m \u001b[0mabove_bounds\u001b[0m \u001b[0;34m=\u001b[0m \u001b[0mself\u001b[0m\u001b[0;34m.\u001b[0m\u001b[0m_check_bounds\u001b[0m\u001b[0;34m(\u001b[0m\u001b[0mx_new\u001b[0m\u001b[0;34m)\u001b[0m\u001b[0;34m\u001b[0m\u001b[0;34m\u001b[0m\u001b[0m\n\u001b[0m\u001b[1;32m    678\u001b[0m             \u001b[0;32mif\u001b[0m \u001b[0mlen\u001b[0m\u001b[0;34m(\u001b[0m\u001b[0my_new\u001b[0m\u001b[0;34m)\u001b[0m \u001b[0;34m>\u001b[0m \u001b[0;36m0\u001b[0m\u001b[0;34m:\u001b[0m\u001b[0;34m\u001b[0m\u001b[0;34m\u001b[0m\u001b[0m\n\u001b[1;32m    679\u001b[0m                 \u001b[0;31m# Note fill_value must be broadcast up to the proper size\u001b[0m\u001b[0;34m\u001b[0m\u001b[0;34m\u001b[0m\u001b[0;34m\u001b[0m\u001b[0m\n",
      "\u001b[0;32m~/opt/anaconda3/lib/python3.8/site-packages/scipy/interpolate/interpolate.py\u001b[0m in \u001b[0;36m_check_bounds\u001b[0;34m(self, x_new)\u001b[0m\n\u001b[1;32m    704\u001b[0m         \u001b[0;31m# !! Could provide more information about which values are out of bounds\u001b[0m\u001b[0;34m\u001b[0m\u001b[0;34m\u001b[0m\u001b[0;34m\u001b[0m\u001b[0m\n\u001b[1;32m    705\u001b[0m         \u001b[0;32mif\u001b[0m \u001b[0mself\u001b[0m\u001b[0;34m.\u001b[0m\u001b[0mbounds_error\u001b[0m \u001b[0;32mand\u001b[0m \u001b[0mbelow_bounds\u001b[0m\u001b[0;34m.\u001b[0m\u001b[0many\u001b[0m\u001b[0;34m(\u001b[0m\u001b[0;34m)\u001b[0m\u001b[0;34m:\u001b[0m\u001b[0;34m\u001b[0m\u001b[0;34m\u001b[0m\u001b[0m\n\u001b[0;32m--> 706\u001b[0;31m             raise ValueError(\"A value in x_new is below the interpolation \"\n\u001b[0m\u001b[1;32m    707\u001b[0m                              \"range.\")\n\u001b[1;32m    708\u001b[0m         \u001b[0;32mif\u001b[0m \u001b[0mself\u001b[0m\u001b[0;34m.\u001b[0m\u001b[0mbounds_error\u001b[0m \u001b[0;32mand\u001b[0m \u001b[0mabove_bounds\u001b[0m\u001b[0;34m.\u001b[0m\u001b[0many\u001b[0m\u001b[0;34m(\u001b[0m\u001b[0;34m)\u001b[0m\u001b[0;34m:\u001b[0m\u001b[0;34m\u001b[0m\u001b[0;34m\u001b[0m\u001b[0m\n",
      "\u001b[0;31mValueError\u001b[0m: A value in x_new is below the interpolation range."
     ]
    }
   ],
   "source": [
    "from ace import model\n",
    "x= 'rescaledSubCount'\t\n",
    "y= 'positivityScores'\n",
    "myace = model.Model()\n",
    "print(len([semantic_df[x]]))\n",
    "print(len([semantic_df[x]][0]))\n",
    "print(len(semantic_df[y]))\n",
    "\n",
    "myace.build_model_from_xy([semantic_df[x]], semantic_df[y])\n",
    "myace.eval([0.1])"
   ]
  },
  {
   "cell_type": "code",
   "execution_count": null,
   "id": "54615f09",
   "metadata": {},
   "outputs": [],
   "source": []
  }
 ],
 "metadata": {
  "interpreter": {
   "hash": "811149f64e05d2226278a2e375973a70398b68aeeea8a4c51891bf9fc1d57f5b"
  },
  "kernelspec": {
   "display_name": "Python [conda env:colorization]",
   "language": "python",
   "name": "python3"
  },
  "language_info": {
   "codemirror_mode": {
    "name": "ipython",
    "version": 3
   },
   "file_extension": ".py",
   "mimetype": "text/x-python",
   "name": "python",
   "nbconvert_exporter": "python",
   "pygments_lexer": "ipython3",
   "version": "3.8.8"
  }
 },
 "nbformat": 4,
 "nbformat_minor": 5
}
